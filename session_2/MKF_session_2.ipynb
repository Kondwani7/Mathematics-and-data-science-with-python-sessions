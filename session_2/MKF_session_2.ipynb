{
 "cells": [
  {
   "cell_type": "markdown",
   "metadata": {},
   "source": [
    "# How to import the numerical python library"
   ]
  },
  {
   "cell_type": "code",
   "execution_count": 3,
   "metadata": {},
   "outputs": [],
   "source": [
    "# from numpy import * #import everything, don't use this \n",
    "# from numpy import linalg, math\n",
    "import numpy as np #now I created an instance from numpy called np which i can always use to call any function inside"
   ]
  },
  {
   "cell_type": "code",
   "execution_count": 4,
   "metadata": {},
   "outputs": [],
   "source": [
    "# how to delete this code cell and get it back"
   ]
  },
  {
   "cell_type": "code",
   "execution_count": 5,
   "metadata": {},
   "outputs": [
    {
     "name": "stdout",
     "output_type": "stream",
     "text": [
      "WARNING: The conda.compat module is deprecated and will be removed in a future release.\n",
      "# packages in environment at /home/ahmed/anaconda3:\n",
      "#\n",
      "# Name                    Version                   Build  Channel\n",
      "numpy                     1.16.2           py37h7e9f1db_0  \n",
      "numpy-base                1.16.2           py37hde5b4d6_0  \n",
      "numpydoc                  0.8.0                    py37_0  \n"
     ]
    }
   ],
   "source": [
    "# checking my numpy version because it gets updates as any python package \n",
    "!conda list numpy"
   ]
  },
  {
   "cell_type": "markdown",
   "metadata": {},
   "source": [
    "### Numpy is an n-dim array object that holdes data from the same type\n",
    "think of it as a n-dim grid that takes some elements and force all of them to be the same type unlike lists which makes the calc really fast"
   ]
  },
  {
   "cell_type": "code",
   "execution_count": 24,
   "metadata": {},
   "outputs": [
    {
     "name": "stdout",
     "output_type": "stream",
     "text": [
      "<class 'int'>\n",
      "<class 'int'>\n",
      "<class 'str'>\n",
      "<class 'str'>\n",
      "<class 'float'>\n",
      "<class 'numpy.str_'>\n",
      "<class 'numpy.str_'>\n",
      "<class 'numpy.str_'>\n",
      "<class 'numpy.str_'>\n",
      "<class 'numpy.str_'>\n",
      "the data type of that array is = <U21\n"
     ]
    }
   ],
   "source": [
    "#with a list\n",
    "l1 = [1, 2, \"ahmed\", \"mohamed\", 10.19]\n",
    "for i in l1:\n",
    "    print(type(i))\n",
    "\n",
    "    \n",
    "\n",
    "# with arrays\n",
    "vector = np.array([1, 2, \"ahmed\", \"mohamed\", 10.19])\n",
    "for i in vector:\n",
    "    print(type(i))\n",
    "# or \n",
    "print(\"the data type of that array is =\", vector.dtype)"
   ]
  },
  {
   "cell_type": "code",
   "execution_count": null,
   "metadata": {},
   "outputs": [],
   "source": []
  },
  {
   "cell_type": "code",
   "execution_count": 10,
   "metadata": {
    "scrolled": true
   },
   "outputs": [
    {
     "name": "stdout",
     "output_type": "stream",
     "text": [
      "with list, I used 0.2563290596008301 s\n"
     ]
    }
   ],
   "source": [
    "# Lets get the mean of an array of 100000 elements, with python and again with np \n",
    "arr = np.random.random(1000000)\n",
    "import time\n",
    "start = time.time()\n",
    "arr_mean = sum(arr) / len(arr)\n",
    "end = time.time()\n",
    "print(\"with list, I used {} s\".format(end - start))"
   ]
  },
  {
   "cell_type": "code",
   "execution_count": 11,
   "metadata": {},
   "outputs": [
    {
     "name": "stdout",
     "output_type": "stream",
     "text": [
      "with list, I used 0.001706838607788086 s\n"
     ]
    }
   ],
   "source": [
    "# let's do it with numpy\n",
    "start = time.time()\n",
    "arr_mean = np.mean(arr)\n",
    "end = time.time()\n",
    "print(\"with list, I used {} s\".format(end - start))"
   ]
  },
  {
   "cell_type": "markdown",
   "metadata": {},
   "source": [
    "### Let's see one dimentional array"
   ]
  },
  {
   "cell_type": "code",
   "execution_count": 25,
   "metadata": {},
   "outputs": [
    {
     "name": "stdout",
     "output_type": "stream",
     "text": [
      "[1 2 3]\n",
      "<class 'numpy.ndarray'>\n",
      "data type of the array = int64\n",
      "shape of the array = (3,)\n"
     ]
    }
   ],
   "source": [
    "arr = np.array([1, 2, 3])\n",
    "print(arr)\n",
    "print(type(arr))\n",
    "print(\"data type of the array =\", arr.dtype)\n",
    "print(\"shape of the array =\", arr.shape)"
   ]
  },
  {
   "cell_type": "markdown",
   "metadata": {},
   "source": [
    "### Higher dim array (matrices)\n",
    "A matrix arranges numbers into rows and columns, like this:\n",
    "\n",
    "\\begin{equation}A = \\begin{bmatrix}\n",
    "  1 & 2 & 3 \\\\\n",
    "  4 & 5 & 6\n",
    " \\end{bmatrix}\n",
    "\\end{equation}\n",
    "\n",
    "We refer to the *elements* of the matrix using the lower case equivalent with a subscript row and column indicator, like this:\n",
    "\n",
    "\\begin{equation}A = \\begin{bmatrix}\n",
    "  a_{1,1} & a_{1,2} & a_{1,3} \\\\\n",
    "  a_{2,1} & a_{2,2} & a_{2,3}\n",
    " \\end{bmatrix}\n",
    "\\end{equation}"
   ]
  },
  {
   "cell_type": "code",
   "execution_count": 45,
   "metadata": {},
   "outputs": [
    {
     "name": "stdout",
     "output_type": "stream",
     "text": [
      "[[1. 2. 3.]\n",
      " [4. 5. 6.]]\n",
      "<class 'numpy.ndarray'>\n",
      "shape of the array = (2, 3)\n"
     ]
    }
   ],
   "source": [
    "A = np.array([[1, 2, 3],\n",
    "                [4, 5, 6]], dtype = np.float)\n",
    "print(A)\n",
    "print(type(A))\n",
    "print(\"shape of the array =\", A.shape)"
   ]
  },
  {
   "cell_type": "markdown",
   "metadata": {},
   "source": [
    "### Some Linear Algebra \n",
    "\n",
    "#### Adding Matrices\n",
    "\n",
    "\\begin{equation}\\begin{bmatrix}1 & 2  \\\\3 & 4 \\end{bmatrix}+ \\begin{bmatrix}1 & 2  \\\\3 & 4\\end{bmatrix} = \\begin{bmatrix}6 & 8\\\\ 10 & 12 \\end{bmatrix}\\end{equation}\n",
    "\n",
    "#### Subtracting Matrices\n",
    "\n",
    "\\begin{equation}\\begin{bmatrix}1 & 2  \\\\3 & 46\\end{bmatrix}- \\begin{bmatrix}1 & 2  \\\\3 & 4\\end{bmatrix} = \\begin{bmatrix}-4 & -4\\\\ -4 & -4 \\end{bmatrix}\\end{equation}\n",
    "\n",
    "#### Multi Matrices\n",
    "\n",
    "\\begin{equation}\\begin{bmatrix}1 & 2  \\\\3 & 46\\end{bmatrix}* \\begin{bmatrix}1 & 2  \\\\3 & 4\\end{bmatrix} = \\begin{bmatrix}5 & 12\\\\ 21 & 32 \\end{bmatrix}\\end{equation}"
   ]
  },
  {
   "cell_type": "code",
   "execution_count": 60,
   "metadata": {},
   "outputs": [
    {
     "name": "stdout",
     "output_type": "stream",
     "text": [
      "Sum of x and y:\n",
      "[[ 6  8]\n",
      " [10 12]]\n",
      "[[ 6  8]\n",
      " [10 12]]\n",
      "\n",
      "\n",
      "Difference of x - y:\n",
      "[[-4 -4]\n",
      " [-4 -4]]\n",
      "[[-4 -4]\n",
      " [-4 -4]]\n",
      "\n",
      "\n",
      "Multi x over y:\n",
      "[[ 5 12]\n",
      " [21 32]]\n",
      "[[ 5 12]\n",
      " [21 32]]\n",
      "\n",
      "\n",
      "Dividing x over y:\n",
      "[[0.2        0.33333333]\n",
      " [0.42857143 0.5       ]]\n",
      "[[0.2        0.33333333]\n",
      " [0.42857143 0.5       ]]\n",
      "\n",
      "\n",
      "the square root of x:\n",
      "[[1.         1.41421356]\n",
      " [1.73205081 2.        ]]\n",
      "\n",
      "\n",
      "the inverse of x:\n",
      "[[-1 -2]\n",
      " [-3 -4]]\n",
      "\n",
      "\n",
      "scaling or stetching x by 2:\n",
      "[[2 4]\n",
      " [6 8]]\n"
     ]
    }
   ],
   "source": [
    "x = np.array([[1,2],\n",
    "              [3,4]])\n",
    "y = np.array([[5,6],\n",
    "              [7,8]])\n",
    "\n",
    "# sum\n",
    "print(\"Sum of x and y:\")\n",
    "print(x + y)\n",
    "print(np.add(x, y))\n",
    "print(\"\\n\")\n",
    "\n",
    "# difference\n",
    "print(\"Difference of x - y:\")\n",
    "print(x - y)\n",
    "print(np.subtract(x, y))\n",
    "print(\"\\n\")\n",
    "\n",
    "# product\n",
    "print(\"Multi x over y:\")\n",
    "print(x * y)\n",
    "print(np.multiply(x, y))\n",
    "print(\"\\n\")\n",
    "\n",
    "# division\n",
    "print(\"Dividing x over y:\")\n",
    "print(x / y)\n",
    "print(np.divide(x, y))\n",
    "print(\"\\n\")\n",
    "\n",
    "# square root\n",
    "print(\"the square root of x:\")\n",
    "print(np.sqrt(x))\n",
    "print(\"\\n\")\n",
    "\n",
    "# negative matrix\n",
    "print(\"the inverse of x:\")\n",
    "print(-x)\n",
    "print(\"\\n\")\n",
    "\n",
    "\n",
    "# Scaling\n",
    "print(\"scaling or stetching x by 2:\")\n",
    "print(2 * x)"
   ]
  },
  {
   "cell_type": "code",
   "execution_count": 42,
   "metadata": {},
   "outputs": [
    {
     "name": "stdout",
     "output_type": "stream",
     "text": [
      "[[1. 2.]\n",
      " [3. 4.]]\n",
      "[[1. 3.]\n",
      " [2. 4.]]\n",
      "[[1. 3.]\n",
      " [2. 4.]]\n"
     ]
    }
   ],
   "source": [
    "# transpose of a matrix\n",
    "# Note that taking the transpose of a rank 1 array does nothing\n",
    "\n",
    "print(x)\n",
    "print(np.transpose(x))\n",
    "# or\n",
    "print(x.T)"
   ]
  },
  {
   "cell_type": "code",
   "execution_count": 44,
   "metadata": {
    "scrolled": true
   },
   "outputs": [
    {
     "name": "stdout",
     "output_type": "stream",
     "text": [
      "219\n",
      "219\n",
      "dot product of a 2*2 matrix by 2*1 vector\n",
      "[29. 67.]\n",
      "dot product of a 2*2 matrix by 2*2 matrix\n",
      "[[19. 22.]\n",
      " [43. 50.]]\n"
     ]
    }
   ],
   "source": [
    "# product \n",
    "\n",
    "v = np.array([9,10])\n",
    "w = np.array([11, 12])\n",
    "\n",
    "# Dot product of vectors\n",
    "print(v.dot(w))\n",
    "# or\n",
    "print(np.dot(v, w))\n",
    "\n",
    "# Matrix / vector product\n",
    "print(\"dot product of a 2*2 matrix by 2*1 vector\")\n",
    "print(np.dot(x, v))\n",
    "\n",
    "# Matrix / matrix product\n",
    "print(\"dot product of a 2*2 matrix by 2*2 matrix\")\n",
    "print(np.dot(x, y))"
   ]
  },
  {
   "cell_type": "markdown",
   "metadata": {},
   "source": [
    "They provide many more useful functions like sum of a matrix or an array. You can find all in that <a href = \"https://docs.scipy.org/doc/numpy/reference/routines.math.html\">documentation</a>"
   ]
  },
  {
   "cell_type": "markdown",
   "metadata": {},
   "source": [
    "### Introduction to linalg tool "
   ]
  },
  {
   "cell_type": "code",
   "execution_count": 49,
   "metadata": {},
   "outputs": [
    {
     "name": "stdout",
     "output_type": "stream",
     "text": [
      "2.23606797749979\n"
     ]
    }
   ],
   "source": [
    "# norm of a vector \n",
    "x = np.array([1, 2])\n",
    "print(np.linalg.norm(x))"
   ]
  },
  {
   "cell_type": "markdown",
   "metadata": {},
   "source": [
    "#### Solving this system of equations\n",
    "\n",
    "$$ 3x + y = 9$$ \n",
    "\n",
    "$$ x + 2y = 8$$"
   ]
  },
  {
   "cell_type": "code",
   "execution_count": 51,
   "metadata": {},
   "outputs": [
    {
     "data": {
      "text/plain": [
       "array([2., 3.])"
      ]
     },
     "execution_count": 51,
     "metadata": {},
     "output_type": "execute_result"
    }
   ],
   "source": [
    "var = np.array([[3,1], [1,2]])\n",
    "ans = np.array([9,8])\n",
    "np.linalg.solve(var, ans)"
   ]
  },
  {
   "cell_type": "code",
   "execution_count": 52,
   "metadata": {},
   "outputs": [
    {
     "name": "stdout",
     "output_type": "stream",
     "text": [
      "2.9999999999999996\n"
     ]
    }
   ],
   "source": [
    "# the det(matrix)\n",
    "A= np.array([[1, 2, 3], [2, 3, 5], [4, 5, 6]])\n",
    "print(np.linalg.det(A))"
   ]
  },
  {
   "cell_type": "code",
   "execution_count": 53,
   "metadata": {},
   "outputs": [
    {
     "name": "stdout",
     "output_type": "stream",
     "text": [
      "[[-2.33333333  1.          0.33333333]\n",
      " [ 2.66666667 -2.          0.33333333]\n",
      " [-0.66666667  1.         -0.33333333]]\n"
     ]
    }
   ],
   "source": [
    "# getting the inverse of a matrix\n",
    "print(np.linalg.inv(A))"
   ]
  },
  {
   "cell_type": "code",
   "execution_count": 57,
   "metadata": {},
   "outputs": [
    {
     "name": "stdout",
     "output_type": "stream",
     "text": [
      "the EigenValues of the matrix a =\n",
      " [11.2662813 -0.2662813 -1.       ]\n",
      "the Eigenvectors of the matrix a =\n",
      " [[-0.33123988 -0.48960855 -0.33333333]\n",
      " [-0.54572066  0.80663447 -0.66666667]\n",
      " [-0.76972015 -0.3310956   0.66666667]]\n"
     ]
    }
   ],
   "source": [
    "# get the Eigen values and Eigen vectors of a matrix\n",
    "eigen_values, eigen_vectors = np.linalg.eig(A)\n",
    "print(\"the EigenValues of the matrix a =\\n\", eigen_values)\n",
    "print(\"the Eigenvectors of the matrix a =\\n\",\n",
    "      eigen_vectors)"
   ]
  }
 ],
 "metadata": {
  "kernelspec": {
   "display_name": "Python 3",
   "language": "python",
   "name": "python3"
  },
  "language_info": {
   "codemirror_mode": {
    "name": "ipython",
    "version": 3
   },
   "file_extension": ".py",
   "mimetype": "text/x-python",
   "name": "python",
   "nbconvert_exporter": "python",
   "pygments_lexer": "ipython3",
   "version": "3.7.3"
  }
 },
 "nbformat": 4,
 "nbformat_minor": 2
}
